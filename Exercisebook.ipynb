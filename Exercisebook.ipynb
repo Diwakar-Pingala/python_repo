{
 "cells": [
  {
   "cell_type": "code",
   "execution_count": 1,
   "metadata": {},
   "outputs": [
    {
     "name": "stdout",
     "output_type": "stream",
     "text": [
      "3\n",
      "-1\n",
      "2\n",
      "0.5\n"
     ]
    }
   ],
   "source": [
    "def add(a,b):\n",
    "    c = a+b\n",
    "    return c\n",
    "\n",
    "def sub(a,b):\n",
    "    c = a-b\n",
    "    return c\n",
    "\n",
    "def mul(a,b):\n",
    "    c = a*b\n",
    "    return c\n",
    "\n",
    "def div(a,b):\n",
    "    c = a/b\n",
    "    return c\n",
    "\n",
    "print(add (1,2))\n",
    "print(sub (1,2))\n",
    "print(mul (1,2))\n",
    "print(div (1,2))\n"
   ]
  },
  {
   "cell_type": "code",
   "execution_count": 3,
   "metadata": {},
   "outputs": [
    {
     "name": "stdout",
     "output_type": "stream",
     "text": [
      "Hello Mary!\n",
      "Correct password\n",
      "Enter a number boyo\n",
      "You got lucky, dont get cocky kid.\n",
      "Loop no 0\n",
      "Loop no 1\n",
      "Loop no 2\n",
      "Loop no 3\n",
      "Loop no 4\n",
      "Loop no 5\n"
     ]
    }
   ],
   "source": [
    "name = 'Mary'\n",
    "if(name == 'John'):\n",
    "    print('Hello Johnny Boy.')\n",
    "else:\n",
    "    print('Hello Mary!')\n",
    "password = input()\n",
    "if(password == 'XYZ123'):   #this is a sample comment statement\n",
    "    print('Correct password')\n",
    "else:\n",
    "    print('Incorrect password')\n",
    "print('Enter a number boyo')\n",
    "num=int(input())\n",
    "if(num == 3):\n",
    "    print('You got lucky, dont get cocky kid.')\n",
    "elif(num == 2):\n",
    "    print('Look you are my father.')\n",
    "else:\n",
    "    print('It is treason then.')\n",
    "count = 0\n",
    "while count<6:\n",
    "    print('Loop no '+ str(count))\n",
    "    count =count + 1\n"
   ]
  },
  {
   "cell_type": "code",
   "execution_count": 4,
   "metadata": {},
   "outputs": [
    {
     "name": "stdout",
     "output_type": "stream",
     "text": [
      "Hello, please enter some text.\n",
      "Thank you, now we shall see how long this text is (this includes whitespaces)\n",
      "The user string is 10 characters long\n"
     ]
    }
   ],
   "source": [
    "print('Hello, please enter some text.')\n",
    "userInput = input()\n",
    "print('Thank you, now we shall see how long this text is (this includes whitespaces)')\n",
    "strLen = len(userInput)\n",
    "print('The user string is '+(str(strLen))+' characters long')\n"
   ]
  },
  {
   "cell_type": "code",
   "execution_count": 5,
   "metadata": {},
   "outputs": [
    {
     "name": "stdout",
     "output_type": "stream",
     "text": [
      "Welcome to number games.\n",
      "Enter a number, and if it is even, You win.\n",
      "You win\n",
      "Do you wish to play again\n",
      "Invalid input, you will play again\n",
      "Welcome to number games.\n",
      "Enter a number, and if it is even, You win.\n",
      "You win\n",
      "Do you wish to play again\n"
     ]
    }
   ],
   "source": [
    "userInput = 0 #userInput value has been set to 0 by default\n",
    "userChoice = 'u'  #userChoice value has been set to undefined or u\n",
    "contu = True    #contu value by default is set to true\n",
    "while contu == True:\n",
    "    print ('Welcome to number games.')\n",
    "    print ('Enter a number, and if it is even, You win.')\n",
    "    userInput = int(input())\n",
    "    if(userInput % 2 == 0):\n",
    "        print('You win')\n",
    "    else:\n",
    "        print('I win')\n",
    "    print('Do you wish to play again')\n",
    "    userChoice = input()\n",
    "    if((userChoice == 'Y') or (userChoice == 'y ')):\n",
    "        contu = True\n",
    "    elif((userChoice == 'N') or (userChoice == 'n')):\n",
    "        contu = False\n",
    "    else:\n",
    "        print('Invalid input, you will play again')\n",
    "        contu = True\n"
   ]
  },
  {
   "cell_type": "code",
   "execution_count": 6,
   "metadata": {},
   "outputs": [
    {
     "name": "stdout",
     "output_type": "stream",
     "text": [
      "5\n",
      "4\n",
      "9\n",
      "7\n",
      "3\n",
      "5\n",
      "3\n",
      "1\n",
      "9\n",
      "2\n",
      "5\n"
     ]
    }
   ],
   "source": [
    "import random\n",
    "for i in range(0,11):\n",
    "    print(random.randint(1,10))\n"
   ]
  },
  {
   "cell_type": "code",
   "execution_count": 2,
   "metadata": {},
   "outputs": [
    {
     "name": "stdout",
     "output_type": "stream",
     "text": [
      "Enter a number please.\n",
      "The Table is:\n",
      "0\n",
      "3\n",
      "6\n",
      "9\n",
      "12\n",
      "15\n",
      "18\n",
      "21\n",
      "24\n",
      "27\n",
      "30\n"
     ]
    }
   ],
   "source": [
    "#This is a program to demonstrate how a for loop works in python.\n",
    "#The program will print the multiplication table of a number which is taken from the user\n",
    "print('Enter a number please.')\n",
    "userInput = int(input())\n",
    "print('The Table is:')\n",
    "for i in range(0, 11):\n",
    "    print(str(userInput * i))\n"
   ]
  },
  {
   "cell_type": "code",
   "execution_count": 8,
   "metadata": {},
   "outputs": [
    {
     "name": "stdout",
     "output_type": "stream",
     "text": [
      "Hello youre stuck in a loop\n",
      "You will die here, unless you type the password\n",
      "Got it correct Kiddo\n",
      "Hello youre stuck in a loop\n",
      "You will die here, unless you type the password\n",
      "Got it correct Kiddo\n",
      "Hello youre stuck in a loop\n",
      "You will die here, unless you type the password\n"
     ]
    }
   ],
   "source": [
    "import sys\n",
    "while  True:\n",
    "    print('Hello youre stuck in a loop')\n",
    "    print('You will die here, unless you type the password')\n",
    "    userInput = input()\n",
    "    if (userInput == 'IOPIOPIOP'):\n",
    "        print('Got it correct Kiddo')\n",
    "        sys.exit()\n"
   ]
  },
  {
   "cell_type": "code",
   "execution_count": 1,
   "metadata": {},
   "outputs": [
    {
     "name": "stdout",
     "output_type": "stream",
     "text": [
      "3\n",
      "2\n"
     ]
    },
    {
     "data": {
      "text/plain": [
       "2"
      ]
     },
     "execution_count": 1,
     "metadata": {},
     "output_type": "execute_result"
    }
   ],
   "source": [
    "def main(target: int):\n",
    "    nums = [1,2,3,4,5,6,7]\n",
    "    found = -1\n",
    "    for i in nums:\n",
    "        if(i == target):\n",
    "            found = nums.index(target)\n",
    "            print(found)\n",
    "            break\n",
    "    return found\n",
    "target = int(input())\n",
    "print(target)\n",
    "main(target)"
   ]
  },
  {
   "cell_type": "code",
   "execution_count": 3,
   "metadata": {},
   "outputs": [
    {
     "name": "stdout",
     "output_type": "stream",
     "text": [
      "Enter the password\n",
      "Inorrect Password\n",
      "Enter the password\n",
      "Correct Password\n",
      "0\n",
      "1\n",
      "2\n",
      "3\n",
      "4\n",
      "5\n",
      "\n",
      "0\n",
      "1\n",
      "2\n",
      "3\n",
      "4\n",
      "5\n",
      "6\n",
      "7\n",
      "8\n",
      "9\n",
      "10\n"
     ]
    }
   ],
   "source": [
    "while True:\n",
    "    print('Enter the password')\n",
    "    userInput = input()\n",
    "    if(userInput != 'QWERTY123'):\n",
    "        print('Inorrect Password')\n",
    "        continue\n",
    "    elif(userInput == 'QWERTY123'):\n",
    "        print('Correct Password')\n",
    "        break\n",
    "for i in range(0, 11):\n",
    "    print(i)\n",
    "    if(i == 5):\n",
    "        break\n",
    "print('')\n",
    "for j in range(0, 11):\n",
    "    print(j)\n",
    "    if(j == 10):\n",
    "        continue\n"
   ]
  }
 ],
 "metadata": {
  "interpreter": {
   "hash": "368ee26707efca611ac005c308a984a2b89e244173cfa3d6aee27a9d90891822"
  },
  "kernelspec": {
   "display_name": "Python 3.9.13 64-bit (windows store)",
   "language": "python",
   "name": "python3"
  },
  "language_info": {
   "codemirror_mode": {
    "name": "ipython",
    "version": 3
   },
   "file_extension": ".py",
   "mimetype": "text/x-python",
   "name": "python",
   "nbconvert_exporter": "python",
   "pygments_lexer": "ipython3",
   "version": "3.9.13"
  },
  "orig_nbformat": 4
 },
 "nbformat": 4,
 "nbformat_minor": 2
}
